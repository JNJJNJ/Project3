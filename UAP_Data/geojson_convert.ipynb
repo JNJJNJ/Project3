{
 "cells": [
  {
   "cell_type": "markdown",
   "metadata": {},
   "source": [
    "# GEOJSON Points\n",
    "\n",
    "    Create Lon Lat points from City, State names\n",
    "    Imports CSV File with city names\n",
    "    Uses geoapify to get lon lat"
   ]
  },
  {
   "cell_type": "code",
   "execution_count": 1,
   "metadata": {},
   "outputs": [],
   "source": [
    "# Dependencies and Setup\n",
    "import pandas as pd\n",
    "import requests as req\n",
    "import time\n",
    "from geojson import Point, Feature, FeatureCollection, dump\n",
    "\n",
    "# Import API key\n",
    "from api_keys import geoapify_key"
   ]
  },
  {
   "cell_type": "code",
   "execution_count": 3,
   "metadata": {},
   "outputs": [
    {
     "data": {
      "text/html": [
       "<div>\n",
       "<style scoped>\n",
       "    .dataframe tbody tr th:only-of-type {\n",
       "        vertical-align: middle;\n",
       "    }\n",
       "\n",
       "    .dataframe tbody tr th {\n",
       "        vertical-align: top;\n",
       "    }\n",
       "\n",
       "    .dataframe thead th {\n",
       "        text-align: right;\n",
       "    }\n",
       "</style>\n",
       "<table border=\"1\" class=\"dataframe\">\n",
       "  <thead>\n",
       "    <tr style=\"text-align: right;\">\n",
       "      <th></th>\n",
       "      <th>Occurred</th>\n",
       "      <th>Lon</th>\n",
       "      <th>Lat</th>\n",
       "      <th>City</th>\n",
       "      <th>State</th>\n",
       "      <th>Country</th>\n",
       "      <th>Shape</th>\n",
       "      <th>Summary</th>\n",
       "      <th>Media</th>\n",
       "      <th>Explanation</th>\n",
       "    </tr>\n",
       "  </thead>\n",
       "  <tbody>\n",
       "    <tr>\n",
       "      <th>71</th>\n",
       "      <td>4/19/1966</td>\n",
       "      <td>-122.674194</td>\n",
       "      <td>45.520247</td>\n",
       "      <td>Portland</td>\n",
       "      <td>OR</td>\n",
       "      <td>USA</td>\n",
       "      <td>Formation</td>\n",
       "      <td>I was looking northeast and saw 4 very bright ...</td>\n",
       "      <td>NaN</td>\n",
       "      <td>NaN</td>\n",
       "    </tr>\n",
       "  </tbody>\n",
       "</table>\n",
       "</div>"
      ],
      "text/plain": [
       "     Occurred         Lon        Lat      City State Country      Shape  \\\n",
       "71  4/19/1966 -122.674194  45.520247  Portland    OR     USA  Formation   \n",
       "\n",
       "                                              Summary Media Explanation  \n",
       "71  I was looking northeast and saw 4 very bright ...   NaN         NaN  "
      ]
     },
     "execution_count": 3,
     "metadata": {},
     "output_type": "execute_result"
    }
   ],
   "source": [
    "# Load the UAP CSV file into a Pandas DataFrame\n",
    "uap_data_df = pd.read_csv(\"uap_data_output.csv\")\n",
    "\n",
    "# Group city, state, country to limit geoapify queries\n",
    "cities = uap_data_df.groupby(['City','State','Country']).sum().reset_index()\n",
    "\n",
    "# Save queries into a list\n",
    "geoapify_queries = []\n",
    "geoapify_query = 'https://api.geoapify.com/v1/geocode/search?text='\n",
    "for colname, data in cities.iterrows():\n",
    "    city = data.iloc[0]\n",
    "    State = data.iloc[1]\n",
    "    Country = data.iloc[2]\n",
    "    geoapify_queries.append(geoapify_query + \n",
    "                            city + ',' + \n",
    "                            State + ',' + \n",
    "                            Country + '&format=json&apiKey=' + geoapify_key)\n",
    "\n",
    "uap_data_df.sample()"
   ]
  },
  {
   "cell_type": "code",
   "execution_count": 4,
   "metadata": {},
   "outputs": [
    {
     "data": {
      "text/html": [
       "<div>\n",
       "<style scoped>\n",
       "    .dataframe tbody tr th:only-of-type {\n",
       "        vertical-align: middle;\n",
       "    }\n",
       "\n",
       "    .dataframe tbody tr th {\n",
       "        vertical-align: top;\n",
       "    }\n",
       "\n",
       "    .dataframe thead th {\n",
       "        text-align: right;\n",
       "    }\n",
       "</style>\n",
       "<table border=\"1\" class=\"dataframe\">\n",
       "  <thead>\n",
       "    <tr style=\"text-align: right;\">\n",
       "      <th></th>\n",
       "      <th>Occurred</th>\n",
       "      <th>Lon</th>\n",
       "      <th>Lat</th>\n",
       "      <th>City</th>\n",
       "      <th>State</th>\n",
       "      <th>Country</th>\n",
       "      <th>Shape</th>\n",
       "      <th>Summary</th>\n",
       "      <th>Media</th>\n",
       "      <th>Explanation</th>\n",
       "    </tr>\n",
       "  </thead>\n",
       "  <tbody>\n",
       "    <tr>\n",
       "      <th>29</th>\n",
       "      <td>10/1/2005</td>\n",
       "      <td>-81.482812</td>\n",
       "      <td>41.136273</td>\n",
       "      <td>Cuyahoga Falls</td>\n",
       "      <td>OH</td>\n",
       "      <td>USA</td>\n",
       "      <td>Other</td>\n",
       "      <td>V-shaped object seen in sky of Cuyahoga Falls,...</td>\n",
       "      <td>NaN</td>\n",
       "      <td>NaN</td>\n",
       "    </tr>\n",
       "  </tbody>\n",
       "</table>\n",
       "</div>"
      ],
      "text/plain": [
       "     Occurred        Lon        Lat            City State Country  Shape  \\\n",
       "29  10/1/2005 -81.482812  41.136273  Cuyahoga Falls    OH     USA  Other   \n",
       "\n",
       "                                              Summary Media Explanation  \n",
       "29  V-shaped object seen in sky of Cuyahoga Falls,...   NaN         NaN  "
      ]
     },
     "execution_count": 4,
     "metadata": {},
     "output_type": "execute_result"
    }
   ],
   "source": [
    "# limit the for loop as a safety measure\n",
    "loop = 0\n",
    "\n",
    "# Finding the lat lon for the city locations\n",
    "# Adding / updating lat lon in the uap dataframe\n",
    "for geo in geoapify_queries:\n",
    "\n",
    "    try:\n",
    "        # req geoapify\n",
    "        city_json = req.get(geo).json()\n",
    "\n",
    "        lon = city_json['results'][0]['lon']\n",
    "        lat = city_json['results'][0]['lat']\n",
    "        city_name = city_json['results'][0]['city']\n",
    "        state_abbr = city_json['results'][0]['state_code']\n",
    "\n",
    "        # add lon lat to dataframe\n",
    "        uap_data_df.loc[(uap_data_df['City'] == city_name) & (uap_data_df['State'] == state_abbr), 'Lon'] = lon\n",
    "        uap_data_df.loc[(uap_data_df['City'] == city_name) & (uap_data_df['State'] == state_abbr), 'Lat'] = lat\n",
    "        \n",
    "    except:\n",
    "        print(city_name)\n",
    "    \n",
    "    if loop == 101:\n",
    "        break\n",
    "    loop += 1\n",
    "\n",
    "    time.sleep(1)\n",
    "\n",
    "uap_data_df.sample()"
   ]
  },
  {
   "cell_type": "code",
   "execution_count": 5,
   "metadata": {},
   "outputs": [],
   "source": [
    "# Save the data to a csv file\n",
    "uap_data_df.to_csv('uap_data_output.csv', index=None)"
   ]
  },
  {
   "cell_type": "code",
   "execution_count": 6,
   "metadata": {},
   "outputs": [],
   "source": [
    "# may want to check the csv file for completeness before running this\n",
    "# Output the geojson data\n",
    "feature_collections = {}\n",
    "\n",
    "count = len(uap_data_df)\n",
    "features = []\n",
    "for i in range(count):\n",
    "    testout = uap_data_df.iloc[i]\n",
    "    point = Point((testout.loc[('Lon')], testout.loc[('Lat')]))\n",
    "\n",
    "    features.append(Feature(geometry=point, \n",
    "                            properties={\n",
    "                                \"Occurred\": testout.loc[('Occurred')],\n",
    "                                \"City\": testout.loc[('City')],\n",
    "                                \"Country\": testout.loc[('Country')],\n",
    "                                \"Shape\": testout.loc[('Shape')],\n",
    "                                \"Summary\": testout.loc[('Summary')]\n",
    "                                }))\n",
    "\n",
    "feature_collection = FeatureCollection(features)\n",
    "\n",
    "\n",
    "with open('uap_data_output.geojson', 'w') as f:\n",
    "    dump(feature_collection, f)\n"
   ]
  }
 ],
 "metadata": {
  "kernelspec": {
   "display_name": "Python 3 (ipykernel)",
   "language": "python",
   "name": "python3"
  },
  "language_info": {
   "codemirror_mode": {
    "name": "ipython",
    "version": 3
   },
   "file_extension": ".py",
   "mimetype": "text/x-python",
   "name": "python",
   "nbconvert_exporter": "python",
   "pygments_lexer": "ipython3",
   "version": "3.10.14"
  },
  "latex_envs": {
   "LaTeX_envs_menu_present": true,
   "autoclose": false,
   "autocomplete": true,
   "bibliofile": "biblio.bib",
   "cite_by": "apalike",
   "current_citInitial": 1,
   "eqLabelWithNumbers": true,
   "eqNumInitial": 1,
   "hotkeys": {
    "equation": "Ctrl-E",
    "itemize": "Ctrl-I"
   },
   "labels_anchors": false,
   "latex_user_defs": false,
   "report_style_numbering": false,
   "user_envs_cfg": false
  }
 },
 "nbformat": 4,
 "nbformat_minor": 4
}
